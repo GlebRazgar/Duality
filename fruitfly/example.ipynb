{
 "cells": [
  {
   "cell_type": "code",
   "execution_count": null,
   "metadata": {},
   "outputs": [],
   "source": [
    "# ATTENTION: only run this cell when on google colab\n",
    "!git clone https://github.com/philshiu/Drosophila_brain_model.git\n",
    "!pip install brian2\n",
    "%cd Drosophila_brain_model"
   ]
  },
  {
   "cell_type": "code",
   "execution_count": null,
   "metadata": {},
   "outputs": [],
   "source": [
    "from model import run_exp\n",
    "from model import default_params as params\n",
    "import utils as utl\n",
    "from brian2 import Hz\n",
    "\n",
    "config = {\n",
    "    'path_res'  : './results/example',                              # directory to store results\n",
    "    'path_comp' : './2023_03_23_completeness_630_final.csv',        # csv of the complete list of Flywire neurons\n",
    "    'path_con'  : './2023_03_23_connectivity_630_final.parquet',    # connectivity data\n",
    "    'n_proc'    : -1,                                               # number of CPU cores (-1: use all)\n",
    "}"
   ]
  },
  {
   "attachments": {},
   "cell_type": "markdown",
   "metadata": {},
   "source": [
    "# Introduction\n",
    "## Underlying connectivity data\n",
    "The connectivity of the fly brain is stored in the folowing files:\n",
    "- neurons present: `config['path_comp']`\n",
    "- connectivity between neurons: `config['path_con]`\n",
    "\n",
    "## Model parameters\n",
    "The equation and constants for the leaky integrate and fire model are defined \n",
    "in the dictionary `default_params` in the beginning of the file `model.py`:\n",
    "\n",
    "```\n",
    "default_params = {\n",
    "    # trials\n",
    "    't_run'     : 1000 * ms,              # duration of trial\n",
    "    'n_run'     : 30,                     # number of runs\n",
    "\n",
    "    'v_0'       : -52 * mV,               # resting potential\n",
    "    'v_rst'     : -52 * mV,               # reset potential after spike\n",
    "    [...]\n",
    "```\n",
    "We can also change values\n",
    "and pass the modified dictionary to the model (see Experiment 1).\n",
    "\n",
    "## Addressing neurons\n",
    "Here, we want to stimulate some sugar-sensing neurons in the right hemisphere.\n",
    "The neurons of interest are defined via their flywire IDs:"
   ]
  },
  {
   "cell_type": "code",
   "execution_count": null,
   "metadata": {},
   "outputs": [],
   "source": [
    "neu_sugar = [\n",
    "    720575940624963786,\n",
    "    720575940630233916,\n",
    "    720575940637568838,\n",
    "    720575940638202345,\n",
    "    720575940617000768,\n",
    "    720575940630797113,\n",
    "    720575940632889389,\n",
    "    720575940621754367,\n",
    "    720575940621502051,\n",
    "    720575940640649691,\n",
    "    720575940639332736,\n",
    "    720575940616885538,\n",
    "    720575940639198653,\n",
    "    720575940620900446,\n",
    "    720575940617937543,\n",
    "    720575940632425919,\n",
    "    720575940633143833,\n",
    "    720575940612670570,\n",
    "    720575940628853239,\n",
    "    720575940629176663,\n",
    "    720575940611875570,\n",
    "]"
   ]
  },
  {
   "attachments": {},
   "cell_type": "markdown",
   "metadata": {},
   "source": [
    "For an easier identification, we define also a mapping from the flywire IDs to custom \n",
    "names. The above neurons are calles `sugar_1`, `sugar_2` etc:"
   ]
  },
  {
   "cell_type": "code",
   "execution_count": null,
   "metadata": {},
   "outputs": [],
   "source": [
    "flyid2name = { f: f'sugar_{i+1}' for i, f in enumerate(neu_sugar) }\n",
    "flyid2name"
   ]
  },
  {
   "attachments": {},
   "cell_type": "markdown",
   "metadata": {},
   "source": [
    "# Running simulations\n",
    "## Activating a set of neurons\n",
    "To run a simulation exciting these nerons we have to call `run_exp` supplying the following:\n",
    "- unique name for the simulation: `exp_name`\n",
    "- a list of neurons we want to stimulate: `neu_sugar`\n",
    "- the connectivity data: `config['path_comp']` and `config['path_con]`\n",
    "- path to store the output: `config['path_res']`\n",
    "- number of CPU cores use: `config['n_procs]`\n",
    "\n",
    "Note that running this on Google Colab can take roughly 20 minutes; it is substantially faster on a local install, depending on the number of CPU cores. By default, the neurons are excited at 200 Hz."
   ]
  },
  {
   "cell_type": "code",
   "execution_count": null,
   "metadata": {},
   "outputs": [],
   "source": [
    "# activate sugar sensing neurons\n",
    "run_exp(exp_name='sugarR', neu_exc=neu_sugar, **config)"
   ]
  },
  {
   "attachments": {},
   "cell_type": "markdown",
   "metadata": {},
   "source": [
    "The `.parquet` file created during a simulation contains all spikes events of all neurons in the model.\n",
    "We load the data again from disk by passing a list of result files to the `utl.load_exps` function.\n",
    "\n",
    "We can see from the size of the dataframe\n",
    "that more than 400 000 spikes were generated by activating the sugar neurons (30 trials, 1 s each)."
   ]
  },
  {
   "cell_type": "code",
   "execution_count": null,
   "metadata": {},
   "outputs": [],
   "source": [
    "# load data from disk\n",
    "df_spike = utl.load_exps([ './results/example/sugarR.parquet' ])\n",
    "df_spike"
   ]
  },
  {
   "attachments": {},
   "cell_type": "markdown",
   "metadata": {},
   "source": [
    "The spike times can be converted to spike rates [Hz] via `utl.get_rate`, which requires the duration of each trial.\n",
    "`utl.get_rate` returns `pandas.DataFrame` objects:\n",
    "1. spike rate for each neuron (rows) in each experiment (column): `df_rate`\n",
    "2. standard deviation of rate across trials: `df_rate_std`\n",
    "\n",
    "For convenience, we can optionally pass the `flyid2name` dictionary to `utl.get_rate` in order to convert flywire IDs into\n",
    "meaningful names.\n",
    "\n",
    "We can see that only about 400 neurons show activity during the simulations."
   ]
  },
  {
   "cell_type": "code",
   "execution_count": null,
   "metadata": {},
   "outputs": [],
   "source": [
    "# calculate spike rate and standard deviation\n",
    "df_rate, df_rate_std = utl.get_rate(df_spike, t_run=params['t_run'], n_run=params['n_run'], flyid2name=flyid2name)\n",
    "# sort by spike rate\n",
    "df_rate.sort_values('sugarR', ascending=False)"
   ]
  },
  {
   "cell_type": "markdown",
   "metadata": {},
   "source": [
    "## Change stimulation frequency\n",
    "\n",
    "We want to change the frequency of the stimulation of the sugar neurons.\n",
    "To do so we modify the value for `r_poi` in the `default_params` dictionary and pass the altered dictionary to the `run_exp` function.\n",
    "\n",
    "Note: Since physical quantities in `brian2` have to have the correct unit, we also need the `brian2.Hz` object \n",
    "to define a frequency."
   ]
  },
  {
   "cell_type": "code",
   "execution_count": null,
   "metadata": {},
   "outputs": [],
   "source": [
    "# run with different frequency\n",
    "params['r_poi'] = 100 * Hz\n",
    "\n",
    "run_exp(exp_name='sugarR_100Hz', neu_exc=neu_sugar, params=params, **config)"
   ]
  },
  {
   "attachments": {},
   "cell_type": "markdown",
   "metadata": {},
   "source": [
    "We load the results via the `utl.load_exps` function and convert the spike events to rates with `utl.get_rate`"
   ]
  },
  {
   "cell_type": "code",
   "execution_count": null,
   "metadata": {},
   "outputs": [],
   "source": [
    "ps = [\n",
    "    './results/example/sugarR.parquet',\n",
    "    './results/example/sugarR_100Hz.parquet',\n",
    "]\n",
    "\n",
    "df_spike = utl.load_exps(ps)\n",
    "df_rate, df_rate_std = utl.get_rate(df_spike, t_run=params['t_run'], n_run=params['n_run'], flyid2name=flyid2name)\n",
    "df_rate.sort_values('sugarR_100Hz', ascending=False, inplace=True)\n",
    "df_rate"
   ]
  },
  {
   "attachments": {},
   "cell_type": "markdown",
   "metadata": {},
   "source": [
    "## Silencing neurons\n",
    "We want to silence the most active neurons individually to see how that changes the activity patterns.\n",
    "We do so by passing the neuron IDs we want to silence as a list `run_exp` via the `neu_slnc` argument.\n",
    "In the following example, we are silencing a single neuron `[ i ]` while exciting the sugar neurons `neu_sugar`. \n",
    "We can then investigate how silencing of each individual neuron affects the firing rate of a given neuron, say, MN9. "
   ]
  },
  {
   "cell_type": "code",
   "execution_count": null,
   "metadata": {},
   "outputs": [],
   "source": [
    "#First, let's check on the MN9 firing rate when no neurons are silenced.\n",
    "id_mn9 = 720575940660219265 #id for MN9\n",
    "x = df_rate.loc[id_mn9, \"sugarR_100Hz\"]\n",
    "print(f'Rate for neuron {id_mn9} is {x}')"
   ]
  },
  {
   "cell_type": "code",
   "execution_count": null,
   "metadata": {},
   "outputs": [],
   "source": [
    "# IDs of 3 most active neurons. These neurons are all sugar-sensing neurons.\n",
    "ids = df_rate.sort_values('sugarR_100Hz', ascending=False).index[:3]\n",
    "\n",
    "for i in ids:\n",
    "    run_exp(exp_name=f'sugarR-{i}', neu_exc=neu_sugar, neu_slnc=[ i ], params=params, **config)"
   ]
  },
  {
   "cell_type": "code",
   "execution_count": null,
   "metadata": {},
   "outputs": [],
   "source": [
    "# output files\n",
    "ps = [ f'./results/example/sugarR-{i}.parquet' for i in ids ]\n",
    "\n",
    "# calculate spike rate and sort\n",
    "df_spike = utl.load_exps(ps)\n",
    "df_rate, df_rate_std = utl.get_rate(df_spike, t_run=params['t_run'], n_run=params['n_run'])\n",
    "df_rate.loc[id_mn9, :].sort_values(ascending=True)"
   ]
  }
 ],
 "metadata": {
  "kernelspec": {
   "display_name": "brian2",
   "language": "python",
   "name": "python3"
  },
  "language_info": {
   "codemirror_mode": {
    "name": "ipython",
    "version": 3
   },
   "file_extension": ".py",
   "mimetype": "text/x-python",
   "name": "python",
   "nbconvert_exporter": "python",
   "pygments_lexer": "ipython3",
   "version": "3.10.11"
  },
  "orig_nbformat": 4
 },
 "nbformat": 4,
 "nbformat_minor": 2
}
